{
  "nbformat": 4,
  "nbformat_minor": 0,
  "metadata": {
    "colab": {
      "provenance": [],
      "collapsed_sections": [],
      "authorship_tag": "ABX9TyPJCSbVfZdQCevS8JoB2DYI",
      "include_colab_link": true
    },
    "kernelspec": {
      "name": "python3",
      "display_name": "Python 3"
    },
    "language_info": {
      "name": "python"
    }
  },
  "cells": [
    {
      "cell_type": "markdown",
      "metadata": {
        "id": "view-in-github",
        "colab_type": "text"
      },
      "source": [
        "<a href=\"https://colab.research.google.com/github/Luodina/ML/blob/main/DataAnalyses.ipynb\" target=\"_parent\"><img src=\"https://colab.research.google.com/assets/colab-badge.svg\" alt=\"Open In Colab\"/></a>"
      ]
    },
    {
      "cell_type": "code",
      "metadata": {
        "id": "J4ulfQ_VZe5D"
      },
      "source": [
        "import pandas as pd\n",
        "\n",
        "listings = pd.read_csv(\"listings.csv\")\n",
        "\n",
        "listings.head(3)\n",
        "listings.tail(2)"
      ],
      "execution_count": null,
      "outputs": []
    },
    {
      "cell_type": "code",
      "source": [
        "listings.to_json(\"listings.json\")"
      ],
      "metadata": {
        "id": "r3EW2hg2H8bN"
      },
      "execution_count": null,
      "outputs": []
    },
    {
      "cell_type": "code",
      "metadata": {
        "id": "-9vhdNUDamKj"
      },
      "source": [
        "listings.describe()"
      ],
      "execution_count": null,
      "outputs": []
    },
    {
      "cell_type": "code",
      "source": [
        "listings.index"
      ],
      "metadata": {
        "id": "CmBCRlYIPKp7"
      },
      "execution_count": null,
      "outputs": []
    },
    {
      "cell_type": "code",
      "source": [
        "listings.columns"
      ],
      "metadata": {
        "id": "EqyvW5rAPQPi"
      },
      "execution_count": null,
      "outputs": []
    },
    {
      "cell_type": "code",
      "metadata": {
        "id": "zC-V6RGCamLW"
      },
      "source": [
        "listings.describe(include=[object]) "
      ],
      "execution_count": null,
      "outputs": []
    },
    {
      "cell_type": "code",
      "metadata": {
        "id": "HnFozes3cPqN"
      },
      "source": [
        "listings.T"
      ],
      "execution_count": null,
      "outputs": []
    },
    {
      "cell_type": "code",
      "metadata": {
        "id": "wJorxWy8dGBS"
      },
      "source": [
        "listings.sort_index(axis=0, ascending=True)"
      ],
      "execution_count": null,
      "outputs": []
    },
    {
      "cell_type": "code",
      "metadata": {
        "id": "9TmTwt_Mde6R"
      },
      "source": [
        "listings.sort_values(by=\"price\")"
      ],
      "execution_count": null,
      "outputs": []
    },
    {
      "cell_type": "code",
      "metadata": {
        "id": "JFGqEfRXde65"
      },
      "source": [
        "small_dataset = listings[1:100]\n",
        "small_dataset.tail(5)"
      ],
      "execution_count": null,
      "outputs": []
    },
    {
      "cell_type": "code",
      "source": [
        "listings[\"room_type\"].unique()"
      ],
      "metadata": {
        "id": "-77sznCjQr7T"
      },
      "execution_count": null,
      "outputs": []
    },
    {
      "cell_type": "code",
      "metadata": {
        "id": "T0CoTQP_em0I"
      },
      "source": [
        "listings.isnull()"
      ],
      "execution_count": null,
      "outputs": []
    },
    {
      "cell_type": "code",
      "metadata": {
        "id": "GWknsQj2em0_"
      },
      "source": [
        "listings.isnull().sum()"
      ],
      "execution_count": null,
      "outputs": []
    },
    {
      "cell_type": "code",
      "metadata": {
        "id": "nLZvf9ffg0J3"
      },
      "source": [
        "neighbourhoods = pd.read_csv(\"neighbourhoods.csv\")\n",
        "neighbourhoods.head(3)"
      ],
      "execution_count": null,
      "outputs": []
    },
    {
      "cell_type": "code",
      "metadata": {
        "id": "i6NQ-E2Bhmbf"
      },
      "source": [
        "df_merged = pd.merge(listings, neighbourhoods, on = \"neighbourhood\")\n",
        "df_merged.tail(3)"
      ],
      "execution_count": null,
      "outputs": []
    },
    {
      "cell_type": "code",
      "metadata": {
        "id": "J2FKZszbi5Bg"
      },
      "source": [
        "import plotly.express as px\n",
        "fig = px.bar(df_merged, x='neighbourhood', y = \"number_of_reviews\", color=\"room_type\",  template= \"plotly_white\", title=\"AirBnd Data Viz 1\", color_discrete_sequence=px.colors.sequential.RdBu)\n",
        "fig.show()"
      ],
      "execution_count": null,
      "outputs": []
    },
    {
      "cell_type": "code",
      "metadata": {
        "id": "MpyXtHr9jiRw"
      },
      "source": [
        "import plotly.express as px\n",
        "fig = px.bar(df_merged, x='neighbourhood', y = df_merged,title=\"AirBnd Data Viz 2\", color_discrete_sequence=px.colors.sequential.RdBu)\n",
        "fig.show()"
      ],
      "execution_count": null,
      "outputs": []
    },
    {
      "cell_type": "code",
      "metadata": {
        "id": "zIfNmMyjmn6N"
      },
      "source": [
        "fig = px.pie(df_merged, values='price', names='room_type')\n",
        "fig.show()"
      ],
      "execution_count": null,
      "outputs": []
    },
    {
      "cell_type": "code",
      "metadata": {
        "id": "qUqwiomGmn7E"
      },
      "source": [
        "import plotly.express as px\n",
        "# This dataframe has 244 lines, but 4 distinct values for `day`\n",
        "df = px.data.tips()\n",
        "df.head(3)\n",
        "# fig = px.pie(df, values='tip', names='day')\n",
        "# fig.show()"
      ],
      "execution_count": null,
      "outputs": []
    }
  ]
}