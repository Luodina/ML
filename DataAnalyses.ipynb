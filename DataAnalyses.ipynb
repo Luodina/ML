{
  "nbformat": 4,
  "nbformat_minor": 0,
  "metadata": {
    "colab": {
      "provenance": [],
      "authorship_tag": "ABX9TyPuVHGvcbyChLjRWoWm63r4",
      "include_colab_link": true
    },
    "kernelspec": {
      "name": "python3",
      "display_name": "Python 3"
    },
    "language_info": {
      "name": "python"
    }
  },
  "cells": [
    {
      "cell_type": "markdown",
      "metadata": {
        "id": "view-in-github",
        "colab_type": "text"
      },
      "source": [
        "<a href=\"https://colab.research.google.com/github/Luodina/ML/blob/main/DataAnalyses.ipynb\" target=\"_parent\"><img src=\"https://colab.research.google.com/assets/colab-badge.svg\" alt=\"Open In Colab\"/></a>"
      ]
    },
    {
      "cell_type": "code",
      "metadata": {
        "id": "J4ulfQ_VZe5D"
      },
      "source": [
        "import pandas as pd\n",
        "\n",
        "listings = pd.read_json(\"https://raw.githubusercontent.com/Luodina/js-data-viz/4rh-stage/step-1-http-requests/data/airbnb-data.json\")\n",
        "listings.head(3)\n",
        "listings.tail(2)"
      ],
      "execution_count": null,
      "outputs": []
    },
    {
      "cell_type": "code",
      "source": [
        "listings.to_csv(\"listings.json\")"
      ],
      "metadata": {
        "id": "r3EW2hg2H8bN"
      },
      "execution_count": null,
      "outputs": []
    },
    {
      "cell_type": "code",
      "metadata": {
        "id": "-9vhdNUDamKj"
      },
      "source": [
        "listings.describe()"
      ],
      "execution_count": null,
      "outputs": []
    },
    {
      "cell_type": "code",
      "source": [
        "listings.index"
      ],
      "metadata": {
        "id": "CmBCRlYIPKp7"
      },
      "execution_count": null,
      "outputs": []
    },
    {
      "cell_type": "code",
      "source": [
        "listings.columns"
      ],
      "metadata": {
        "id": "EqyvW5rAPQPi"
      },
      "execution_count": null,
      "outputs": []
    },
    {
      "cell_type": "code",
      "source": [
        "# Using DataFrame.drop\n",
        "#df1 = listings.drop(listings.columns[[0,4]], axis=1, inplace=True)\n",
        "\n",
        "# drop by Name\n",
        "#df1 = listings.drop(['neighbourhood_group'], axis=1, inplace=True)\n",
        "\n",
        "# Select the ones you want\n",
        "#df1 = df[['neighbourhood','room_type']]"
      ],
      "metadata": {
        "id": "1dR9GIIMT0zw"
      },
      "execution_count": null,
      "outputs": []
    },
    {
      "cell_type": "code",
      "metadata": {
        "id": "zC-V6RGCamLW"
      },
      "source": [
        "listings.describe(include=[object]) "
      ],
      "execution_count": null,
      "outputs": []
    },
    {
      "cell_type": "code",
      "metadata": {
        "id": "HnFozes3cPqN"
      },
      "source": [
        "listings.T"
      ],
      "execution_count": null,
      "outputs": []
    },
    {
      "cell_type": "code",
      "metadata": {
        "id": "wJorxWy8dGBS"
      },
      "source": [
        "listings.sort_index(axis=0, ascending=True)"
      ],
      "execution_count": null,
      "outputs": []
    },
    {
      "cell_type": "code",
      "metadata": {
        "id": "9TmTwt_Mde6R"
      },
      "source": [
        "listings.sort_values(by=\"price\")"
      ],
      "execution_count": null,
      "outputs": []
    },
    {
      "cell_type": "code",
      "metadata": {
        "id": "JFGqEfRXde65"
      },
      "source": [
        "small_dataset = listings[1:100]\n",
        "small_dataset.tail(5)"
      ],
      "execution_count": null,
      "outputs": []
    },
    {
      "cell_type": "code",
      "source": [
        "listings[\"room_type\"].unique()"
      ],
      "metadata": {
        "id": "-77sznCjQr7T"
      },
      "execution_count": null,
      "outputs": []
    },
    {
      "cell_type": "code",
      "metadata": {
        "id": "T0CoTQP_em0I"
      },
      "source": [
        "listings.isnull()"
      ],
      "execution_count": null,
      "outputs": []
    },
    {
      "cell_type": "code",
      "metadata": {
        "id": "GWknsQj2em0_"
      },
      "source": [
        "listings.isnull().sum()"
      ],
      "execution_count": null,
      "outputs": []
    },
    {
      "cell_type": "code",
      "source": [
        "pip install geopandas"
      ],
      "metadata": {
        "id": "kk6ZQNXG4u8Z"
      },
      "execution_count": null,
      "outputs": []
    },
    {
      "cell_type": "code",
      "source": [
        "import geopandas as gpd\n",
        "\n",
        "path_to_geojson = \"neighbourhoods.geojson\"\n",
        "\n",
        "neighbourhoods = gpd.read_file(path_to_geojson)"
      ],
      "metadata": {
        "id": "w_4A8j6-4dfi"
      },
      "execution_count": null,
      "outputs": []
    },
    {
      "cell_type": "code",
      "source": [
        "neighbourhoods.head(3)"
      ],
      "metadata": {
        "id": "dHEOtTw-41CM"
      },
      "execution_count": null,
      "outputs": []
    },
    {
      "cell_type": "code",
      "metadata": {
        "id": "i6NQ-E2Bhmbf"
      },
      "source": [
        "df_merged = pd.merge(listings, neighbourhoods, on = \"neighbourhood\")\n",
        "df_merged.tail(3)"
      ],
      "execution_count": null,
      "outputs": []
    },
    {
      "cell_type": "code",
      "source": [
        "df_merged.describe(include=[object]) "
      ],
      "metadata": {
        "id": "oEGexFZc5Wf3"
      },
      "execution_count": null,
      "outputs": []
    },
    {
      "cell_type": "code",
      "metadata": {
        "id": "J2FKZszbi5Bg"
      },
      "source": [
        "import plotly.express as px\n",
        "#fig = px.bar(df_merged, x='neighbourhood', y = \"number_of_reviews\", color=\"room_type\",  template= \"plotly_white\", title=\"AirBnd Data Viz 1\", color_discrete_sequence=px.colors.sequential.RdBu)\n",
        "fig = px.bar(df_merged, x='neighbourhood', color=\"room_type\", title=\"AirBnd Data Viz 1\")\n",
        "fig.show()"
      ],
      "execution_count": null,
      "outputs": []
    },
    {
      "cell_type": "code",
      "metadata": {
        "id": "MpyXtHr9jiRw"
      },
      "source": [
        "import plotly.express as px\n",
        "fig = px.bar(df_merged, x='neighbourhood', y = df_merged,title=\"AirBnd Data Viz 2\", color_discrete_sequence=px.colors.sequential.RdBu)\n",
        "fig.show()"
      ],
      "execution_count": null,
      "outputs": []
    },
    {
      "cell_type": "code",
      "metadata": {
        "id": "zIfNmMyjmn6N"
      },
      "source": [
        "fig = px.pie(df_merged, values='price', names='room_type')\n",
        "fig.show()\n"
      ],
      "execution_count": null,
      "outputs": []
    },
    {
      "cell_type": "code",
      "metadata": {
        "id": "qUqwiomGmn7E"
      },
      "source": [
        "grouped_df = df_merged.groupby(\"room_type\")[\"room_type\"].count().reset_index(name = 'count')\n",
        "#grouped_df.head()\n",
        "\n",
        "fig = px.bar(grouped_df, x= \"room_type\",y = \"count\", title = \"AirBnd Data Viz 1\")\n",
        "fig.show()"
      ],
      "execution_count": null,
      "outputs": []
    },
    {
      "cell_type": "code",
      "source": [
        "def getRangeByPrice(price):\n",
        "  if price>1000:\n",
        "    return \"over 1000\"\n",
        "  else:\n",
        "    return \"less 1000\"\n",
        "\n",
        "listings[\"new_column\"] = listings[\"price\"].apply(lambda x: getRangeByPrice(x))\n",
        "\n",
        "listings.head()"
      ],
      "metadata": {
        "id": "eNKq4LhxO0SK"
      },
      "execution_count": null,
      "outputs": []
    },
    {
      "cell_type": "code",
      "source": [
        "import plotly.express as px\n",
        "# This dataframe has 244 lines, but 4 distinct values for `day`\n",
        "\n",
        "fig = px.pie(listings, values=listings[\"id\"].value_counts().values, names='new_column')\n",
        "fig.show()"
      ],
      "metadata": {
        "id": "bYrgmBMDPX5N"
      },
      "execution_count": null,
      "outputs": []
    },
    {
      "cell_type": "code",
      "source": [
        "fig = px.pie(listings, values='price', names='room_type')\n",
        "fig.show()"
      ],
      "metadata": {
        "id": "0aHT2D-PRZ0y"
      },
      "execution_count": null,
      "outputs": []
    },
    {
      "cell_type": "code",
      "source": [
        "import plotly.express as px\n",
        "fig = px.histogram(listings, x='neighbourhood', color=\"room_type\")\n",
        "                   #template= \"plotly_white\", title=\"AirBnd Data Viz 1\", color_discrete_sequence=px.colors.sequential.RdBu)\n",
        "fig.show()"
      ],
      "metadata": {
        "id": "tFIuFhAPRmEA"
      },
      "execution_count": null,
      "outputs": []
    }
  ]
}