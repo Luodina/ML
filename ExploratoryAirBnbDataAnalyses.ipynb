{
  "nbformat": 4,
  "nbformat_minor": 0,
  "metadata": {
    "colab": {
      "provenance": [],
      "authorship_tag": "ABX9TyMl6EK9AgVVqvwxPQ2cW5wX",
      "include_colab_link": true
    },
    "kernelspec": {
      "name": "python3",
      "display_name": "Python 3"
    },
    "language_info": {
      "name": "python"
    }
  },
  "cells": [
    {
      "cell_type": "markdown",
      "metadata": {
        "id": "view-in-github",
        "colab_type": "text"
      },
      "source": [
        "<a href=\"https://colab.research.google.com/github/Luodina/ML/blob/main/ExploratoryAirBnbDataAnalyses.ipynb\" target=\"_parent\"><img src=\"https://colab.research.google.com/assets/colab-badge.svg\" alt=\"Open In Colab\"/></a>"
      ]
    },
    {
      "cell_type": "code",
      "execution_count": null,
      "metadata": {
        "id": "nwYXh9u0f-t1"
      },
      "outputs": [],
      "source": [
        "import pandas as pd\n",
        "listings_url = \"https://raw.githubusercontent.com/Luodina/DataRepo/main/listings.csv\"\n",
        "listings_df = pd.read_csv(listings_url)"
      ]
    },
    {
      "cell_type": "code",
      "source": [
        "listings_df.head()"
      ],
      "metadata": {
        "id": "xejBSwkkg2tG"
      },
      "execution_count": null,
      "outputs": []
    },
    {
      "cell_type": "code",
      "source": [
        "listings_df.shape"
      ],
      "metadata": {
        "id": "-o_n9wrC3q1r",
        "collapsed": true
      },
      "execution_count": null,
      "outputs": []
    },
    {
      "cell_type": "code",
      "source": [
        "listings_df.columns"
      ],
      "metadata": {
        "id": "HYdl1NCziFht"
      },
      "execution_count": null,
      "outputs": []
    },
    {
      "cell_type": "code",
      "source": [
        "listings_df.info() "
      ],
      "metadata": {
        "id": "xoErE6F548E2"
      },
      "execution_count": null,
      "outputs": []
    },
    {
      "cell_type": "code",
      "source": [
        "listings_df.describe()"
      ],
      "metadata": {
        "id": "AUd4nIUzh6U9"
      },
      "execution_count": null,
      "outputs": []
    },
    {
      "cell_type": "code",
      "source": [
        "listings_df.describe(include=[object]) "
      ],
      "metadata": {
        "id": "gnCUYwxni8IO"
      },
      "execution_count": null,
      "outputs": []
    },
    {
      "cell_type": "code",
      "source": [
        "listings_df.drop(['neighbourhood_group'], axis=1, inplace=True)"
      ],
      "metadata": {
        "id": "qXRZjG5TiOhl"
      },
      "execution_count": null,
      "outputs": []
    },
    {
      "cell_type": "code",
      "source": [
        "listings_df.isna().sum()"
      ],
      "metadata": {
        "id": "iIIoF0UMlfod"
      },
      "execution_count": null,
      "outputs": []
    },
    {
      "cell_type": "code",
      "source": [
        "listings_df.fillna(value=0, inplace=True)"
      ],
      "metadata": {
        "id": "hhsQluG9qJ8m"
      },
      "execution_count": null,
      "outputs": []
    },
    {
      "cell_type": "code",
      "source": [
        "import plotly.express as px\n",
        "res = listings_df.groupby(by=\"room_type\")[\"room_type\"].count().reset_index(name=\"count\")\n",
        "#fig = px.bar(res, x=\"room_type\", y=\"count\", title=\"Type of accomodation\")\n",
        "fig = px.histogram(listings_df, x='room_type')\n",
        "fig.show()"
      ],
      "metadata": {
        "id": "eQ0fMQs3sopc"
      },
      "execution_count": null,
      "outputs": []
    },
    {
      "cell_type": "code",
      "source": [
        "import plotly.express as px\n",
        "\n",
        "def getCategory(x):\n",
        "  if (x>1000):\n",
        "    return \"over 1000\"\n",
        "  else:\n",
        "    return \"less 1000\"\n",
        "\n",
        "listings_df[\"category\"] = listings_df[\"price\"].apply(lambda x: getCategory(x))\n",
        "\n",
        "listings_df.head()\n",
        "\n",
        "fig = px.pie(listings_df, values=listings_df[\"id\"].value_counts().values, names='category', hole=.3)\n",
        "fig.show()"
      ],
      "metadata": {
        "id": "tc4CiRYExK9L"
      },
      "execution_count": null,
      "outputs": []
    },
    {
      "cell_type": "code",
      "source": [
        "fig = px.histogram(listings_df, x='neighbourhood', color='room_type')\n",
        "fig.show()"
      ],
      "metadata": {
        "id": "baxn6Dbr3tSR"
      },
      "execution_count": null,
      "outputs": []
    }
  ]
}